{
 "cells": [
  {
   "cell_type": "code",
   "execution_count": null,
   "metadata": {},
   "outputs": [
    {
     "data": {
      "text/plain": [
       "AppState(now=datetime.datetime(2025, 4, 10, 20, 0, 23, 551031), sheets_service=<googleapiclient.discovery.Resource object at 0x0000018B47D5F230>, calendar_service=<googleapiclient.discovery.Resource object at 0x0000018B47D5E3F0>)"
      ]
     },
     "execution_count": 12,
     "metadata": {},
     "output_type": "execute_result"
    }
   ],
   "source": [
    "# %load_ext autoreload\n",
    "# %autoreload 2\n",
    "\n",
    "import sys\n",
    "from pathlib import Path \n",
    "\n",
    "sys.path.append(str(Path.cwd().parent / 'src'))\n",
    "#sys.path.append(str(Path(__file__).parent.parent / \"src\"))\n",
    "\n",
    "from core.app_state import app_state\n",
    "app_state"
   ]
  },
  {
   "cell_type": "code",
   "execution_count": 13,
   "metadata": {},
   "outputs": [
    {
     "name": "stdout",
     "output_type": "stream",
     "text": [
      "'done'\n"
     ]
    }
   ],
   "source": [
    "import pprint\n",
    "from run_calendar import run_calendar_operations \n",
    "\n",
    "run_calendar_operations()\n",
    "\n",
    "pprint.pprint('done')"
   ]
  }
 ],
 "metadata": {
  "kernelspec": {
   "display_name": ".venv",
   "language": "python",
   "name": "python3"
  },
  "language_info": {
   "codemirror_mode": {
    "name": "ipython",
    "version": 3
   },
   "file_extension": ".py",
   "mimetype": "text/x-python",
   "name": "python",
   "nbconvert_exporter": "python",
   "pygments_lexer": "ipython3",
   "version": "3.13.2"
  }
 },
 "nbformat": 4,
 "nbformat_minor": 2
}
