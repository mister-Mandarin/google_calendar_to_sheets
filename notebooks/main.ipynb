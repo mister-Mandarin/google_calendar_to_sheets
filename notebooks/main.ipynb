{
 "cells": [
  {
   "cell_type": "code",
   "execution_count": 1,
   "metadata": {},
   "outputs": [
    {
     "data": {
      "text/plain": [
       "'ru_RU.UTF-8'"
      ]
     },
     "execution_count": 1,
     "metadata": {},
     "output_type": "execute_result"
    }
   ],
   "source": [
    "%load_ext autoreload\n",
    "%autoreload 2\n",
    "\n",
    "from sys import path\n",
    "from pathlib import Path\n",
    "from pprint import pprint\n",
    "from locale import setlocale, LC_ALL\n",
    "\n",
    "path.append(str(Path.cwd().parent / 'src'))\n",
    "#path.append(str(Path(__file__).parent.parent / \"src\"))\n",
    "from core.app_state import app_state\n",
    "\n",
    "setlocale(LC_ALL, 'ru_RU.UTF-8') "
   ]
  },
  {
   "cell_type": "code",
   "execution_count": null,
   "metadata": {},
   "outputs": [],
   "source": [
    "from run_calendar import run_calendar_operations \n",
    "from google_sheet.api import SheetAPI\n",
    "from google_sheet.utils import get_month_info, TIME_INTERVAL\n",
    "\n",
    "run_calendar_operations()\n",
    "\n",
    "#sheet = SheetAPI()\n",
    "\n",
    "# хочу получить айди листа куда записываю данные по дате\n",
    "# data_srting = \"2025-03-17T19:00:00+03:00\"\n",
    "# id = sheet.get_sheet_id(data_srting)\n",
    "# pprint(id['sheetId'])\n",
    "pprint('done') "
   ]
  },
  {
   "cell_type": "code",
   "execution_count": null,
   "metadata": {},
   "outputs": [],
   "source": [
    "\n",
    "from datetime import datetime\n",
    "\n",
    "data = {\n",
    "      \"id\": \"c8om8d1l6tij8b9m6sq36b9k74p38bb1ccq36b9g71h68cb16cr64oj16o\",\n",
    "      \"start\": \"2025-04-01T08:00:00+03:00\",\n",
    "      \"end\": \"2025-04-01T22:30:00+03:00\"\n",
    "    }\n",
    "\n",
    "# Какой порядок записи события?\n",
    "#\n",
    "# + Вытащить событие из документа.\n",
    "### + Чтобы вытащить из документа, надо понять какой документ\n",
    "### + Чтобы понять какой документ, надо знать какие документы были перезаписаны\n",
    "### + Для этого нужно записывать их в отдельную переменную или файл, во время работы с файлами календарей\n",
    "#\n",
    "# Теперь есть список календарей, которые были перезаписаны.\n",
    "# Нужно по алиасу календаря искать его файл в папке\n",
    "### Нужно сделать для этого отдельный метод который будет загружать файл в переменную\n",
    "#\n",
    "# Так как данные нужно перезаписать, нужно очистить существующие записанные данные.\n",
    "### Как это сделать??? Как очистить уже записанные в таблицу данные? Как определить что и где очищать? \n",
    "### Надо взять дату первого события в файл, и дату последнего события.\n",
    "### Найти айди этих календарей.\n",
    "### Так как в диапазоне находится 3 месяца, нужно 3 айдишника календарей, текущий и следующих два. \n",
    "### Найти ячейки для очистки\n",
    "### Сформировать запрос на очистку ячеек.\n",
    "#\n",
    "# Вот есть данные мероприятия и ячейки чистые.\n",
    "### По дате начала  и конца мероприятия определяю координаты ячеек в таблице\n",
    "### Ячейки объединить, поместить по центру, фон рандомный из календаря. Текст дата начала - дата конца, занято.\n",
    "### сделать так со всеми остальными мероприятиями файла\n",
    "### Отправить запрос и перейти к следующему файлу. \n",
    "## А если делать один запрос на все файлы?"
   ]
  },
  {
   "cell_type": "code",
   "execution_count": null,
   "metadata": {},
   "outputs": [
    {
     "name": "stdout",
     "output_type": "stream",
     "text": [
      "2025-04\n",
      "['2025-04', '2025-05', '2025-06']\n"
     ]
    }
   ],
   "source": [
    "\n",
    "from google_sheet.check_sheet_id import CheckSheetId\n",
    "import re\n",
    "from pprint import pprint\n",
    "MONTHS = ['','Январь', 'Февраль', 'Март', 'Апрель', 'Май', 'Июнь', 'Июль', 'Август', 'Сентябрь', 'Октябрь', 'Ноябрь', 'Декабрь']\n",
    "\n",
    "asdasd = '2025-04-23 19:00:00+03:00'\n",
    "xdfsdf = \"2025-04-25T20:30:00+03:00\"\n",
    "\n",
    "vnj = [\n",
    "  {\n",
    "    \"properties\": {\n",
    "      \"sheetId\": 0,\n",
    "      \"title\": \"Лист1\"\n",
    "    }\n",
    "  },\n",
    "  {\n",
    "    \"properties\": {\n",
    "      \"sheetId\": 773436512,\n",
    "      \"title\": \"бугага 2022\"\n",
    "    }\n",
    "  },\n",
    "  {\n",
    "    \"properties\": {\n",
    "      \"sheetId\": 761564927,\n",
    "      \"title\": \"Март_2025\"\n",
    "    }\n",
    "  },\n",
    "  {\n",
    "    \"properties\": {\n",
    "      \"sheetId\": 1221283821,\n",
    "      \"title\": \"Апрель_2025\"\n",
    "    },\n",
    "  },\n",
    "  {\n",
    "    \"properties\": {\n",
    "      \"sheetId\": 1221283821,\n",
    "      \"title\": \"Декабрь_2025\"\n",
    "    },\n",
    "  },\n",
    "  {\n",
    "    \"properties\": {\n",
    "      \"sheetId\": 1221283821,\n",
    "      \"title\": \"Февраль_2026\"\n",
    "    },\n",
    "  },\n",
    "  \n",
    "]\n",
    "print(xdfsdf[:7])\n",
    "\n",
    "def get_month_name_from_iso(iso_string):\n",
    "    dt = datetime.fromisoformat(iso_string)\n",
    "    return f\"{MONTHS[dt.month]}_{dt.year}\"\n",
    "\n",
    "def get_months_between(start, end):\n",
    "    months = []\n",
    "    current = datetime(start.year, start.month, 1)\n",
    "\n",
    "    while current <= end.replace(day=1):\n",
    "        months.append((current.year, current.month))\n",
    "        if current.month == 12:\n",
    "            current = datetime(current.year + 1, 1, 1)\n",
    "        else:\n",
    "            current = datetime(current.year, current.month + 1, 1)\n",
    "\n",
    "    return months\n",
    "\n",
    "list_changed_calendars = ['big90', 'medium60', 'small16']\n",
    "for sheet in list_changed_calendars[0:1]:\n",
    "    # Должны получить список айдишников для одного календаря из данных/\n",
    "    # А зачем, если у нас уже есть список в переменной! \n",
    "    #\n",
    "    setup = CheckSheetId(sheet)\n",
    "    # в setup данные из файла и список айдишников календаря\n",
    "    print(setup.check_sheets_id()) \n",
    "    # Сейчас получаем список дат календаря.\n",
    "    # Теперь их нужно по ключу найти в файле с помощью - SheetAPI\n",
    "    # Далее работать с данными print(xdfsdf[:7]) и проверить план\n",
    "    #\n"
   ]
  }
 ],
 "metadata": {
  "kernelspec": {
   "display_name": ".venv",
   "language": "python",
   "name": "python3"
  },
  "language_info": {
   "codemirror_mode": {
    "name": "ipython",
    "version": 3
   },
   "file_extension": ".py",
   "mimetype": "text/x-python",
   "name": "python",
   "nbconvert_exporter": "python",
   "pygments_lexer": "ipython3",
   "version": "3.13.2"
  }
 },
 "nbformat": 4,
 "nbformat_minor": 2
}
