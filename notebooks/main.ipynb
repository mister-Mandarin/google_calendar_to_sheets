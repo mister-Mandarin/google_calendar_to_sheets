{
 "cells": [
  {
   "cell_type": "code",
   "execution_count": 2,
   "metadata": {},
   "outputs": [
    {
     "name": "stdout",
     "output_type": "stream",
     "text": [
      "The autoreload extension is already loaded. To reload it, use:\n",
      "  %reload_ext autoreload\n"
     ]
    }
   ],
   "source": [
    "%load_ext autoreload\n",
    "%autoreload 2\n",
    "\n",
    "import sys\n",
    "from pathlib import Path \n",
    "\n",
    "sys.path.append(str(Path.cwd().parent / 'src'))\n",
    "#sys.path.append(str(Path(__file__).parent.parent / \"src\"))\n",
    "from core.auth import Auth\n",
    "\n",
    "auth_obj = Auth()"
   ]
  },
  {
   "cell_type": "code",
   "execution_count": 30,
   "metadata": {},
   "outputs": [
    {
     "name": "stdout",
     "output_type": "stream",
     "text": [
      "need sync and write\n",
      "'done'\n"
     ]
    }
   ],
   "source": [
    "import pprint\n",
    " \n",
    "from google_calendar.api import CalendarAPI\n",
    "from google_calendar.utils import CALENDAR_LIST\n",
    "\n",
    "CALENDAR = CALENDAR_LIST[0]\n",
    "calendar = CalendarAPI(auth_obj.get_service(name=\"calendar\"), CALENDAR)\n",
    "calendar.add_calendar()\n",
    "calendar.get_events()\n",
    "#pprint.pprint(calendar.get_sync_token())\n",
    "\n",
    "pprint.pprint('done')"
   ]
  }
 ],
 "metadata": {
  "kernelspec": {
   "display_name": ".venv",
   "language": "python",
   "name": "python3"
  },
  "language_info": {
   "codemirror_mode": {
    "name": "ipython",
    "version": 3
   },
   "file_extension": ".py",
   "mimetype": "text/x-python",
   "name": "python",
   "nbconvert_exporter": "python",
   "pygments_lexer": "ipython3",
   "version": "3.13.2"
  }
 },
 "nbformat": 4,
 "nbformat_minor": 2
}
