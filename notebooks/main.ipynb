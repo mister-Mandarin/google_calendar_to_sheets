{
 "cells": [
  {
   "cell_type": "code",
   "execution_count": 1,
   "metadata": {},
   "outputs": [
    {
     "data": {
      "text/plain": [
       "'ru_RU.UTF-8'"
      ]
     },
     "execution_count": 1,
     "metadata": {},
     "output_type": "execute_result"
    }
   ],
   "source": [
    "%load_ext autoreload\n",
    "%autoreload 2\n",
    "\n",
    "from sys import path\n",
    "from pathlib import Path\n",
    "from pprint import pprint\n",
    "from locale import setlocale, LC_ALL\n",
    "\n",
    "path.append(str(Path.cwd().parent / 'src'))\n",
    "#path.append(str(Path(__file__).parent.parent / \"src\"))\n",
    "from core.app_state import app_state\n",
    "\n",
    "setlocale(LC_ALL, 'ru_RU.UTF-8') "
   ]
  },
  {
   "cell_type": "code",
   "execution_count": 3,
   "metadata": {},
   "outputs": [
    {
     "name": "stdout",
     "output_type": "stream",
     "text": [
      "'done'\n"
     ]
    }
   ],
   "source": [
    "from run_calendar import run_calendar_operations \n",
    "from google_sheet.api import SheetAPI\n",
    "from google_sheet.utils import get_month_info, TIME_INTERVAL\n",
    "\n",
    "run_calendar_operations()\n",
    "\n",
    "#sheet = SheetAPI()\n",
    "\n",
    "# хочу получить айди листа куда записываю данные по дате\n",
    "# data_srting = \"2025-03-17T19:00:00+03:00\"\n",
    "# id = sheet.get_sheet_id(data_srting)\n",
    "# pprint(id['sheetId'])\n",
    "pprint('done') "
   ]
  }
 ],
 "metadata": {
  "kernelspec": {
   "display_name": ".venv",
   "language": "python",
   "name": "python3"
  },
  "language_info": {
   "codemirror_mode": {
    "name": "ipython",
    "version": 3
   },
   "file_extension": ".py",
   "mimetype": "text/x-python",
   "name": "python",
   "nbconvert_exporter": "python",
   "pygments_lexer": "ipython3",
   "version": "3.13.2"
  }
 },
 "nbformat": 4,
 "nbformat_minor": 2
}
