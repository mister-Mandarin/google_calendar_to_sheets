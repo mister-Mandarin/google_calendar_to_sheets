{
 "cells": [
  {
   "cell_type": "code",
   "execution_count": 1,
   "metadata": {},
   "outputs": [],
   "source": [
    "%load_ext autoreload\n",
    "%autoreload 2"
   ]
  },
  {
   "cell_type": "code",
   "execution_count": null,
   "metadata": {},
   "outputs": [
    {
     "data": {
      "text/plain": [
       "'ru_RU.UTF-8'"
      ]
     },
     "execution_count": 3,
     "metadata": {},
     "output_type": "execute_result"
    }
   ],
   "source": [
    "from sys import path\n",
    "from pathlib import Path\n",
    "from pprint import pprint\n",
    "from locale import setlocale, LC_ALL\n",
    "\n",
    "path.append(str(Path.cwd().parent / 'src'))\n",
    "#path.append(str(Path(__file__).parent.parent / \"src\"))\n",
    "from core.app_state import app_state\n",
    "\n",
    "setlocale(LC_ALL, 'ru_RU.UTF-8') "
   ]
  },
  {
   "cell_type": "code",
   "execution_count": null,
   "metadata": {},
   "outputs": [],
   "source": [
    "from run_calendar import run_calendar_operations\n",
    "from run_clean_sheets import run_clean_sheet\n",
    "\n",
    "run_calendar_operations()\n",
    "run_clean_sheet()\n",
    "\n",
    "print('done') "
   ]
  },
  {
   "cell_type": "code",
   "execution_count": null,
   "metadata": {},
   "outputs": [],
   "source": [
    "\n",
    "# Какой порядок записи события?\n",
    "#\n",
    "# + Вытащить событие из документа.\n",
    "### + Чтобы вытащить из документа, надо понять какой документ\n",
    "### + Чтобы понять какой документ, надо знать какие документы были перезаписаны\n",
    "### + Для этого нужно записывать их в отдельную переменную или файл, во время работы с файлами календарей\n",
    "#\n",
    "# + Теперь есть список календарей, которые были перезаписаны.\n",
    "# + Нужно по алиасу календаря искать его файл в папке\n",
    "### + Нужно сделать для этого отдельный метод который будет загружать файл в переменную\n",
    "#\n",
    "# + Так как данные нужно перезаписать, нужно очистить существующие записанные данные.\n",
    "### + Как это сделать??? Как очистить уже записанные в таблицу данные? Как определить что и где очищать? \n",
    "### + Надо взять дату первого события в файл, и дату последнего события.\n",
    "### + Найти айди этих календарей.\n",
    "### + Так как в диапазоне находится 3 месяца, нужно 3 айдишника календарей, текущий и следующих два. \n",
    "### + Найти ячейки для очистки\n",
    "### + Сформировать запрос на очистку ячеек.\n",
    "#\n",
    "# Вот есть данные мероприятия и ячейки чистые!!!!\n",
    "### ~ По дате начала  и конца мероприятия определяю координаты ячеек в таблице\n",
    "### Ячейки объединить, поместить по центру, фон рандомный из календаря. Текст дата начала - дата конца, занято.\n",
    "### сделать так со всеми остальными мероприятиями файла\n",
    "### Отправить запрос и перейти к следующему файлу. \n",
    "## А если делать один запрос на все файлы?"
   ]
  }
 ],
 "metadata": {
  "kernelspec": {
   "display_name": ".venv",
   "language": "python",
   "name": "python3"
  },
  "language_info": {
   "codemirror_mode": {
    "name": "ipython",
    "version": 3
   },
   "file_extension": ".py",
   "mimetype": "text/x-python",
   "name": "python",
   "nbconvert_exporter": "python",
   "pygments_lexer": "ipython3",
   "version": "3.13.2"
  }
 },
 "nbformat": 4,
 "nbformat_minor": 2
}
